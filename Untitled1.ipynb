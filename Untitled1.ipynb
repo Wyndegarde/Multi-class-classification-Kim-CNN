{
 "cells": [
  {
   "cell_type": "code",
   "execution_count": 1,
   "metadata": {},
   "outputs": [],
   "source": [
    "import pandas as pd\n",
    "import numpy as np"
   ]
  },
  {
   "cell_type": "code",
   "execution_count": 2,
   "metadata": {},
   "outputs": [],
   "source": [
    "import tensorflow as tf\n",
    "from tensorflow import keras"
   ]
  },
  {
   "cell_type": "code",
   "execution_count": 3,
   "metadata": {},
   "outputs": [],
   "source": [
    "multi_class = pd.read_csv(\"contracts-train.csv\")"
   ]
  },
  {
   "cell_type": "code",
   "execution_count": 4,
   "metadata": {},
   "outputs": [
    {
     "data": {
      "text/plain": [
       "(160000, 22)"
      ]
     },
     "execution_count": 4,
     "metadata": {},
     "output_type": "execute_result"
    }
   ],
   "source": [
    "multi_class.shape"
   ]
  },
  {
   "cell_type": "code",
   "execution_count": 5,
   "metadata": {},
   "outputs": [
    {
     "name": "stdout",
     "output_type": "stream",
     "text": [
      "<class 'pandas.core.frame.DataFrame'>\n",
      "RangeIndex: 160000 entries, 0 to 159999\n",
      "Data columns (total 22 columns):\n",
      " #   Column                         Non-Null Count   Dtype  \n",
      "---  ------                         --------------   -----  \n",
      " 0   docid                          160000 non-null  int64  \n",
      " 1   publication_date               160000 non-null  object \n",
      " 2   contract_type                  160000 non-null  object \n",
      " 3   nature_of_contract             159985 non-null  object \n",
      " 4   country_code                   159999 non-null  object \n",
      " 5   country_name                   160000 non-null  object \n",
      " 6   sector                         160000 non-null  object \n",
      " 7   value                          84856 non-null   float64\n",
      " 8   title                          160000 non-null  object \n",
      " 9   description                    160000 non-null  object \n",
      " 10  awarding_authority             160000 non-null  object \n",
      " 11  complete_entry                 160000 non-null  object \n",
      " 12  General                        160000 non-null  bool   \n",
      " 13  Defence                        160000 non-null  bool   \n",
      " 14  Education & Culture            160000 non-null  bool   \n",
      " 15  Energy & Environment           160000 non-null  bool   \n",
      " 16  Health & Care                  160000 non-null  bool   \n",
      " 17  Infrastructure & Construction  160000 non-null  bool   \n",
      " 18  Professional Services          160000 non-null  bool   \n",
      " 19  Technology & Communications    160000 non-null  bool   \n",
      " 20  Transport & Logistics          160000 non-null  bool   \n",
      " 21  label                          160000 non-null  int64  \n",
      "dtypes: bool(9), float64(1), int64(2), object(10)\n",
      "memory usage: 17.2+ MB\n"
     ]
    }
   ],
   "source": [
    "multi_class.info()"
   ]
  },
  {
   "cell_type": "code",
   "execution_count": 6,
   "metadata": {
    "collapsed": true,
    "jupyter": {
     "outputs_hidden": true
    }
   },
   "outputs": [
    {
     "data": {
      "text/html": [
       "<div>\n",
       "<style scoped>\n",
       "    .dataframe tbody tr th:only-of-type {\n",
       "        vertical-align: middle;\n",
       "    }\n",
       "\n",
       "    .dataframe tbody tr th {\n",
       "        vertical-align: top;\n",
       "    }\n",
       "\n",
       "    .dataframe thead th {\n",
       "        text-align: right;\n",
       "    }\n",
       "</style>\n",
       "<table border=\"1\" class=\"dataframe\">\n",
       "  <thead>\n",
       "    <tr style=\"text-align: right;\">\n",
       "      <th></th>\n",
       "      <th>complete_entry</th>\n",
       "      <th>General</th>\n",
       "      <th>sector</th>\n",
       "      <th>description</th>\n",
       "    </tr>\n",
       "  </thead>\n",
       "  <tbody>\n",
       "    <tr>\n",
       "      <th>0</th>\n",
       "      <td>&lt;b&gt;Type of document:&lt;/b&gt; Additional informatio...</td>\n",
       "      <td>False</td>\n",
       "      <td>public</td>\n",
       "      <td>La présente consultation porte sur la mission ...</td>\n",
       "    </tr>\n",
       "    <tr>\n",
       "      <th>1</th>\n",
       "      <td>&lt;b&gt;Type of document:&lt;/b&gt; Contract Awards\\n&lt;b&gt;C...</td>\n",
       "      <td>True</td>\n",
       "      <td>public</td>\n",
       "      <td>Die TK plant die Beschaffung von Intrusion Pre...</td>\n",
       "    </tr>\n",
       "    <tr>\n",
       "      <th>2</th>\n",
       "      <td>&lt;b&gt;Type of document:&lt;/b&gt; Contract Awards\\n&lt;b&gt;C...</td>\n",
       "      <td>True</td>\n",
       "      <td>public</td>\n",
       "      <td>— Technisches Gebäudemanagement (TGM), BLB NRW...</td>\n",
       "    </tr>\n",
       "    <tr>\n",
       "      <th>3</th>\n",
       "      <td>&lt;b&gt;Type of document:&lt;/b&gt; Invitation to tender\\...</td>\n",
       "      <td>False</td>\n",
       "      <td>public</td>\n",
       "      <td>The Hyde Group (THG) is looking to enter into ...</td>\n",
       "    </tr>\n",
       "    <tr>\n",
       "      <th>4</th>\n",
       "      <td>&lt;b&gt;Type of document:&lt;/b&gt; Pre-information proce...</td>\n",
       "      <td>False</td>\n",
       "      <td>public</td>\n",
       "      <td>The Agency for Planning and Building Services ...</td>\n",
       "    </tr>\n",
       "    <tr>\n",
       "      <th>...</th>\n",
       "      <td>...</td>\n",
       "      <td>...</td>\n",
       "      <td>...</td>\n",
       "      <td>...</td>\n",
       "    </tr>\n",
       "    <tr>\n",
       "      <th>159995</th>\n",
       "      <td>&lt;b&gt;Type of document:&lt;/b&gt; Invitation to tender\\...</td>\n",
       "      <td>False</td>\n",
       "      <td>public</td>\n",
       "      <td>Datorita restrictiei de 5 000 caractere, se va...</td>\n",
       "    </tr>\n",
       "    <tr>\n",
       "      <th>159996</th>\n",
       "      <td>&lt;b&gt;Type of document:&lt;/b&gt; Pre-information proce...</td>\n",
       "      <td>False</td>\n",
       "      <td>public</td>\n",
       "      <td>Изпълнение на независима оценка на пригодностт...</td>\n",
       "    </tr>\n",
       "    <tr>\n",
       "      <th>159997</th>\n",
       "      <td>&lt;b&gt;Type of document:&lt;/b&gt; Invitation to tender\\...</td>\n",
       "      <td>False</td>\n",
       "      <td>public</td>\n",
       "      <td>Außenreinigungsanlage für Straßenbahnen mit Wa...</td>\n",
       "    </tr>\n",
       "    <tr>\n",
       "      <th>159998</th>\n",
       "      <td>&lt;b&gt;Type of document:&lt;/b&gt; Additional informatio...</td>\n",
       "      <td>False</td>\n",
       "      <td>public</td>\n",
       "      <td>Acquisition de pièces détachées, entretien, ré...</td>\n",
       "    </tr>\n",
       "    <tr>\n",
       "      <th>159999</th>\n",
       "      <td>&lt;b&gt;Type of document:&lt;/b&gt; Contract Awards\\n&lt;b&gt;C...</td>\n",
       "      <td>False</td>\n",
       "      <td>public</td>\n",
       "      <td>Доставка на горива и смазочни материали за нуж...</td>\n",
       "    </tr>\n",
       "  </tbody>\n",
       "</table>\n",
       "<p>160000 rows × 4 columns</p>\n",
       "</div>"
      ],
      "text/plain": [
       "                                           complete_entry  General  sector  \\\n",
       "0       <b>Type of document:</b> Additional informatio...    False  public   \n",
       "1       <b>Type of document:</b> Contract Awards\\n<b>C...     True  public   \n",
       "2       <b>Type of document:</b> Contract Awards\\n<b>C...     True  public   \n",
       "3       <b>Type of document:</b> Invitation to tender\\...    False  public   \n",
       "4       <b>Type of document:</b> Pre-information proce...    False  public   \n",
       "...                                                   ...      ...     ...   \n",
       "159995  <b>Type of document:</b> Invitation to tender\\...    False  public   \n",
       "159996  <b>Type of document:</b> Pre-information proce...    False  public   \n",
       "159997  <b>Type of document:</b> Invitation to tender\\...    False  public   \n",
       "159998  <b>Type of document:</b> Additional informatio...    False  public   \n",
       "159999  <b>Type of document:</b> Contract Awards\\n<b>C...    False  public   \n",
       "\n",
       "                                              description  \n",
       "0       La présente consultation porte sur la mission ...  \n",
       "1       Die TK plant die Beschaffung von Intrusion Pre...  \n",
       "2       — Technisches Gebäudemanagement (TGM), BLB NRW...  \n",
       "3       The Hyde Group (THG) is looking to enter into ...  \n",
       "4       The Agency for Planning and Building Services ...  \n",
       "...                                                   ...  \n",
       "159995  Datorita restrictiei de 5 000 caractere, se va...  \n",
       "159996  Изпълнение на независима оценка на пригодностт...  \n",
       "159997  Außenreinigungsanlage für Straßenbahnen mit Wa...  \n",
       "159998  Acquisition de pièces détachées, entretien, ré...  \n",
       "159999  Доставка на горива и смазочни материали за нуж...  \n",
       "\n",
       "[160000 rows x 4 columns]"
      ]
     },
     "execution_count": 6,
     "metadata": {},
     "output_type": "execute_result"
    }
   ],
   "source": [
    "multi_class[[\"complete_entry\",\"General\",\"sector\",\"description\"]]"
   ]
  },
  {
   "cell_type": "code",
   "execution_count": 26,
   "metadata": {
    "collapsed": true,
    "jupyter": {
     "outputs_hidden": true
    }
   },
   "outputs": [
    {
     "data": {
      "text/plain": [
       "\"<b>Type of document:</b> Additional information\\n<b>Country:</b> France\\n<b>OJEU Ref:</b> (2020/S 066-157955/EN)\\n<b>Nature of contract:</b> Service contract\\n<b>Procedure:</b> Open procedure\\n<b>Regulation of procurement:</b> EU - with participation by GPA countries\\n<b>Type of bid required:</b> Global bid\\n\\nAdditional information\\nServices\\n\\nSection I: Contracting authority\\nI.1) Name and addresses \\nOfficial name: Nantes Métropole\\nPostal address: 2 cours du Champ de Mars\\nTown: Nantes Cedex 9\\nCountry: France\\nEmail: estelle.talhouarn@nantesmetropole.fr\\nInternet address(es): \\nMain address: https://metropole.nantes.fr/\\nAddress of the buyer profile: https://marchespublics.nantesmetropole.fr\\n\\n\\nSection II: Object  \\nII.1) Scope of the procurement: \\nII.1.1) Title: Conseil métropolitain des acteurs de l'alimentation — mission d'accompagnement de groupe\\nReference number: 2020-990\\nII.1.2) Main CPV code:  \\nII.1.3) Type of contract \\nServices\\nII.1.4) Short description: \\nLa présente consultation porte sur la mission d'accompagnement du Conseil métropolitain des acteurs de l'alimentation. Il s'agit d'un marché ordinaire.\\n\\nSection VI: Complementary information \\nVI.5) Date of dispatch of this notice: 2020-03-31\\nVI.6) Original notice reference \\nNotice number in the OJ S: 2020/S 052-123779\\n\\nSection VII: Changes \\nVII.1) Information to be changed or added \\nSection number: IV.2.2)\\nPlace of text to be modified: Date limite de réception des offres ou des demandes de participation\\n Instead of  \\n Date: 2020-04-14\\n Local time: 12:00\\n Read  \\n Date: 2020-05-11\\n Local time: 12:00\\nSection number: IV.2.7)\\nPlace of text to be modified: Modalités d'ouverture des offres\\n Instead of  \\n Date: 2020-04-14\\n Local time: 12:00\\n Read  \\n Date: 2020-05-11\\n Local time: 12:00\""
      ]
     },
     "execution_count": 26,
     "metadata": {},
     "output_type": "execute_result"
    }
   ],
   "source": [
    "multi_class[\"complete_entry\"][0]"
   ]
  },
  {
   "cell_type": "code",
   "execution_count": 23,
   "metadata": {},
   "outputs": [
    {
     "data": {
      "text/plain": [
       "105"
      ]
     },
     "execution_count": 23,
     "metadata": {},
     "output_type": "execute_result"
    }
   ],
   "source": [
    "len(multi_class['country_name'].unique()) # 105 unique countries"
   ]
  },
  {
   "cell_type": "code",
   "execution_count": 24,
   "metadata": {
    "collapsed": true,
    "jupyter": {
     "outputs_hidden": true
    }
   },
   "outputs": [
    {
     "data": {
      "text/plain": [
       "array(['France', 'Germany', 'United Kingdom', 'Norway', 'Belgium',\n",
       "       'Portugal', 'Spain', 'Denmark', 'Czech Republic', 'Hungary',\n",
       "       'Bulgaria', 'Finland', 'Austria', 'Cyprus', 'Poland', 'Italy',\n",
       "       'Slovenia', 'Nepal', 'Kyrgyzstan', 'Sweden', 'Latvia',\n",
       "       'Netherlands', 'Switzerland', 'Romania', 'Republic of Ireland',\n",
       "       'Iceland', 'Lithuania', 'Estonia', 'Croatia', 'Malta', 'Slovakia',\n",
       "       'Greece', 'Luxembourg',\n",
       "       'Macedonia - The Former Yugoslav Republic Of', 'Pakistan',\n",
       "       'Serbia', 'Mali', 'Zimbabwe', 'Turkey', 'Benin',\n",
       "       'Bosnia And Herzegovina', 'Egypt', 'Lebanon', 'Nicaragua',\n",
       "       'Swaziland', 'Ukraine', 'Armenia', 'Moldova - Republic Of',\n",
       "       'Tajikistan', 'Peru', 'Belarus', 'Thailand', 'China', 'Senegal',\n",
       "       'Togo', 'Namibia', 'Georgia', 'Liechtenstein', 'Djibouti', 'Kenya',\n",
       "       'United States', 'Burkina Faso', 'Mauritius', 'Ethiopia',\n",
       "       'Madagascar', 'Congo - The Democratic Republic Of The', 'Malawi',\n",
       "       'Malaysia', 'Viet Nam', 'Gabon', 'Jamaica', 'Kosovo', 'Mongolia',\n",
       "       'Tunisia', 'Morocco', 'Cape Verde', 'Cameroon', 'Mozambique',\n",
       "       'Palestinian Territory - Occupied', 'Korea - Republic Of', 'Fiji',\n",
       "       \"Lao People's Democratic Republic\", 'India', 'Montenegro',\n",
       "       'Liberia', 'Hong Kong', 'Ghana', 'Uzbekistan', 'Kazakhstan',\n",
       "       'Paraguay', 'Nigeria', 'Uganda', 'Israel', 'Costa Rica',\n",
       "       'Honduras', 'Chad', 'Philippines', 'Iran - Islamic Republic Of',\n",
       "       'Afghanistan', 'Gambia', 'Brazil', 'Jordan', '&Aring;land Islands',\n",
       "       'Albania', 'Trinidad And Tobago'], dtype=object)"
      ]
     },
     "execution_count": 24,
     "metadata": {},
     "output_type": "execute_result"
    }
   ],
   "source": [
    "multi_class['country_name'].unique()"
   ]
  },
  {
   "cell_type": "code",
   "execution_count": 6,
   "metadata": {
    "collapsed": true,
    "jupyter": {
     "outputs_hidden": true
    }
   },
   "outputs": [
    {
     "data": {
      "text/plain": [
       "array([      100, 100000110, 100001000,      1000, 100001001, 100000000,\n",
       "          100000, 100000010,   1000000,         1,        10, 100001111,\n",
       "       100011011,     10000, 100101000, 100100000,      1100,     10001,\n",
       "       110001000,    101000,    100100, 100011000,  10000001, 100000001,\n",
       "       110010001,  10100000, 110000000,   1000100, 100010000, 100000100,\n",
       "        10000100,      1001,     10100,   1010000,    101001,    111001,\n",
       "          101010,     10010,  10000000, 101001101,   1010100,      1010,\n",
       "             110,  10101000,   1100000,    100001,        11, 101001000,\n",
       "       100010001,   1001001, 101000110, 110001010,   1000110, 100100001,\n",
       "         1001000,     11000,    101101, 100001100, 100101101,  11100000,\n",
       "           11100, 100000011, 101100000, 101000000,   1001010,   1000010,\n",
       "       110011010,      1011, 100001101,  11000000, 101000100, 100001011,\n",
       "           10110, 100001010,    101100,       111,     11010,   1011000,\n",
       "       101000010,  10011000, 111101100, 100111000,      1110, 101001010,\n",
       "       101011000, 100000101,     11001, 110010011,   1000001, 100101001,\n",
       "       101111011, 100001110,    111101,   1001100, 100010110,  10000010,\n",
       "       100011010,   1101000,  10011001,  10010000, 100010100, 110010000,\n",
       "       101010000,  10011101, 100110000,  10010100,  10001000,  10001100,\n",
       "             101,   1000101, 110000110,    110000, 100100100,    100010,\n",
       "       100010101, 100010011, 101001110,  11000100, 100011001, 111111101,\n",
       "          111010, 100111010,      1111,    111000, 100010010, 110000001,\n",
       "       100100101, 101011010, 111000000, 110101000,    101011,  10001001,\n",
       "        10010010,  10101001, 100101010,   1001110,   1010101, 101000101,\n",
       "       100111101,     10011,  10000110, 111011110, 100110001, 111001010,\n",
       "       101101000,  11010000,  11001100,   1111001, 100011110, 110001100,\n",
       "       100100110, 110001001, 100111001, 101010100, 110010010,     11110,\n",
       "        10100100, 110000010, 110011011,  10010011, 100010111,   1100100,\n",
       "       100011101,  10010110, 110000111,   1010001, 111000010,   1110000,\n",
       "            1101, 101010001, 110001111, 101101111, 110011000, 100110010,\n",
       "        10001011, 110010110, 111000100, 101011100, 101101001, 101001100,\n",
       "       101011011, 101001001, 101110000, 111101001, 110101111, 100011100,\n",
       "         1011100, 111010000,  11101000, 110011111, 110101001, 100100011,\n",
       "           10101, 101110001,  10000011,   1010110, 110001110,  10001010,\n",
       "         1100001,   1011001, 100101100,   1101100,  10011100, 101011110,\n",
       "       100000111, 110000100, 110001011,  11100100, 111111111,  11010100,\n",
       "       101000001, 101001011, 110111010, 101111010,  10101110, 111010100,\n",
       "       101110100, 110011110,   1110010, 110101100, 100111100,   1111100,\n",
       "       101111000,  11001000, 101010101, 100111011,  11111101,  10100001,\n",
       "       101010111,   1001101, 110110000, 100110100,     11101, 110111000,\n",
       "       111011111, 101101100,   1001011, 111001011, 100011111, 101111101,\n",
       "        10010001,  10101100, 101010010,  10001111,  10000101, 100100010,\n",
       "         1000111, 101100100,    110100,    111100,  11101110, 101100001,\n",
       "       111111001,  11100101,    111110, 110011101, 101111001,   1101001,\n",
       "        11111100, 111111011, 111000001, 110011001,   1110100,  11110001,\n",
       "         1000011, 110100000,   1100101,  11100001,  11010101,  10000111,\n",
       "       100110111, 110000011,  11000001,   1010010, 111001001,  11001011,\n",
       "       101111111,   1010111,    110101,  11001110, 111011001, 110000101,\n",
       "       101100101,    100110,   1100110, 111010111, 111011101, 110101011,\n",
       "       111000111, 110111001, 101010110,    110001, 101101101, 111101000,\n",
       "       101000011,  11101100, 100111110, 101100110,   1011110, 101001111,\n",
       "       110111110,  10011110,  11010110, 101101010, 100111111, 101101110,\n",
       "        10001101, 100101011, 101011001,  10001110,  11010001,   1010011,\n",
       "       111001101, 100110011, 101011101,  11000101,     11011, 100101111,\n",
       "          110011, 100100111,  11001111,    110010, 110111111,  11000010,\n",
       "       111001111,  10111110,  10010101, 101000111,  11001001,   1111000,\n",
       "       110111011,    100101,   1011010, 110101101], dtype=int64)"
      ]
     },
     "execution_count": 6,
     "metadata": {},
     "output_type": "execute_result"
    }
   ],
   "source": [
    "multi_class['label'].unique()"
   ]
  },
  {
   "cell_type": "code",
   "execution_count": 7,
   "metadata": {},
   "outputs": [
    {
     "data": {
      "text/plain": [
       "334"
      ]
     },
     "execution_count": 7,
     "metadata": {},
     "output_type": "execute_result"
    }
   ],
   "source": [
    "len(multi_class['label'].unique())"
   ]
  },
  {
   "cell_type": "code",
   "execution_count": 7,
   "metadata": {},
   "outputs": [],
   "source": [
    "from tensorflow.keras.preprocessing.text import Tokenizer"
   ]
  },
  {
   "cell_type": "code",
   "execution_count": 8,
   "metadata": {},
   "outputs": [],
   "source": [
    "tokenizer = Tokenizer(num_words = 1000000)"
   ]
  },
  {
   "cell_type": "code",
   "execution_count": 9,
   "metadata": {},
   "outputs": [],
   "source": [
    "tokenizer.fit_on_texts(multi_class['title'])"
   ]
  },
  {
   "cell_type": "code",
   "execution_count": 10,
   "metadata": {},
   "outputs": [],
   "source": [
    "word_index = tokenizer.word_index"
   ]
  },
  {
   "cell_type": "code",
   "execution_count": 38,
   "metadata": {},
   "outputs": [
    {
     "data": {
      "text/plain": [
       "dict"
      ]
     },
     "execution_count": 38,
     "metadata": {},
     "output_type": "execute_result"
    }
   ],
   "source": [
    "type(word_index)"
   ]
  },
  {
   "cell_type": "code",
   "execution_count": 19,
   "metadata": {},
   "outputs": [],
   "source": [
    "vocab = list(word_index.keys())"
   ]
  },
  {
   "cell_type": "code",
   "execution_count": 11,
   "metadata": {},
   "outputs": [],
   "source": [
    "sequences = tokenizer.texts_to_sequences(multi_class['title'])"
   ]
  },
  {
   "cell_type": "code",
   "execution_count": 22,
   "metadata": {},
   "outputs": [
    {
     "name": "stdout",
     "output_type": "stream",
     "text": [
      "[[4, 332, 658, 50, 1]]\n",
      "and\n"
     ]
    },
    {
     "data": {
      "text/plain": [
       "(None, None)"
      ]
     },
     "execution_count": 22,
     "metadata": {},
     "output_type": "execute_result"
    }
   ],
   "source": [
    "print(sequences[0:1]),  print(vocab[1])"
   ]
  },
  {
   "cell_type": "code",
   "execution_count": 34,
   "metadata": {},
   "outputs": [
    {
     "data": {
      "text/plain": [
       "(160000, 23333)"
      ]
     },
     "execution_count": 34,
     "metadata": {},
     "output_type": "execute_result"
    }
   ],
   "source": [
    "len(sequences), len(word_index)"
   ]
  },
  {
   "cell_type": "code",
   "execution_count": 24,
   "metadata": {},
   "outputs": [],
   "source": [
    "from tensorflow.keras.preprocessing.sequence import pad_sequences"
   ]
  },
  {
   "cell_type": "code",
   "execution_count": 25,
   "metadata": {},
   "outputs": [],
   "source": [
    "padded = pad_sequences(sequences, padding = 'post')"
   ]
  },
  {
   "cell_type": "code",
   "execution_count": 27,
   "metadata": {},
   "outputs": [
    {
     "name": "stdout",
     "output_type": "stream",
     "text": [
      "[  4 332 658  50   1   0   0   0   0   0   0   0   0   0   0   0   0   0\n",
      "   0   0   0   0   0   0   0   0   0   0   0   0   0   0   0   0   0   0\n",
      "   0   0   0   0   0   0   0   0   0   0   0   0   0   0   0   0   0   0\n",
      "   0   0   0]\n"
     ]
    }
   ],
   "source": [
    "print(padded[0])"
   ]
  },
  {
   "cell_type": "code",
   "execution_count": 28,
   "metadata": {},
   "outputs": [
    {
     "data": {
      "text/plain": [
       "(160000, 57)"
      ]
     },
     "execution_count": 28,
     "metadata": {},
     "output_type": "execute_result"
    }
   ],
   "source": [
    "padded.shape"
   ]
  },
  {
   "cell_type": "code",
   "execution_count": null,
   "metadata": {},
   "outputs": [],
   "source": [
    "training_sentences = sentences[0:training_size]\n",
    "testing_sentences = sentences[training_size:]\n",
    "training_labels = labels[0:training_size]\n",
    "testing_labels = labels[training_size:]"
   ]
  },
  {
   "cell_type": "code",
   "execution_count": null,
   "metadata": {},
   "outputs": [],
   "source": [
    "training_sentences = sentences[0:training_size]\n",
    "testing_sentences = sentences[training_size:]\n",
    "training_labels = labels[0:training_size]\n",
    "testing_labels = labels[training_size:]\n",
    "\n",
    "tokenizer = Tokenizer(num_words=vocab_size, oov_token=oov_tok)\n",
    "tokenizer.fit_on_texts(training_sentences)\n",
    "\n",
    "word_index = tokenizer.word_index\n",
    "\n",
    "training_sequences = tokenizer.texts_to_sequences(training_sentences)\n",
    "training_padded = pad_sequences(training_sequences, maxlen=max_length, padding=padding_type, truncating=trunc_type)\n",
    "\n",
    "testing_sequences = tokenizer.texts_to_sequences(testing_sentences)\n",
    "testing_padded = pad_sequences(testing_sequences, maxlen=max_length, padding=padding_type, truncating=trunc_type)\n",
    "\n",
    "training_padded = np.array(training_padded)\n",
    "training_labels = np.array(training_labels)\n",
    "testing_padded = np.array(testing_padded)\n",
    "testing_labels = np.array(testing_labels)"
   ]
  },
  {
   "cell_type": "code",
   "execution_count": null,
   "metadata": {},
   "outputs": [],
   "source": [
    "training_padded = np.array(training_padded)\n",
    "training_labels = np.array(training_labels)\n",
    "testing_padded = np.array(testing_padded)\n",
    "testing_labels = np.array(testing_labels)"
   ]
  },
  {
   "cell_type": "code",
   "execution_count": null,
   "metadata": {},
   "outputs": [],
   "source": []
  },
  {
   "cell_type": "code",
   "execution_count": null,
   "metadata": {},
   "outputs": [],
   "source": []
  },
  {
   "cell_type": "code",
   "execution_count": null,
   "metadata": {},
   "outputs": [],
   "source": []
  }
 ],
 "metadata": {
  "kernelspec": {
   "display_name": "Python 3",
   "language": "python",
   "name": "python3"
  },
  "language_info": {
   "codemirror_mode": {
    "name": "ipython",
    "version": 3
   },
   "file_extension": ".py",
   "mimetype": "text/x-python",
   "name": "python",
   "nbconvert_exporter": "python",
   "pygments_lexer": "ipython3",
   "version": "3.8.5"
  }
 },
 "nbformat": 4,
 "nbformat_minor": 4
}
